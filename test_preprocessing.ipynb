{
  "nbformat": 4,
  "nbformat_minor": 0,
  "metadata": {
    "colab": {
      "provenance": []
    },
    "kernelspec": {
      "name": "python3",
      "display_name": "Python 3"
    },
    "language_info": {
      "name": "python"
    }
  },
  "cells": [
    {
      "cell_type": "code",
      "execution_count": 1,
      "metadata": {
        "id": "rwEQMLT5rKyC"
      },
      "outputs": [],
      "source": [
        "import numpy as np\n",
        "import pandas as pd\n",
        "import matplotlib.pyplot as plt\n",
        "import seaborn as sns"
      ]
    },
    {
      "cell_type": "code",
      "source": [
        "test_data=pd.read_csv('/content/test_loan (1).csv')"
      ],
      "metadata": {
        "id": "Y3-4XPc7rvFD"
      },
      "execution_count": 2,
      "outputs": []
    },
    {
      "cell_type": "code",
      "source": [
        "test_data.columns"
      ],
      "metadata": {
        "colab": {
          "base_uri": "https://localhost:8080/"
        },
        "id": "2iEv_eQ2r8sD",
        "outputId": "5c56a4b5-9d5c-4315-808b-9ce40318012e"
      },
      "execution_count": 3,
      "outputs": [
        {
          "output_type": "execute_result",
          "data": {
            "text/plain": [
              "Index(['Loan_ID', 'Gender', 'Married', 'Dependents', 'Education',\n",
              "       'Self_Employed', 'ApplicantIncome', 'CoapplicantIncome', 'LoanAmount',\n",
              "       'Loan_Amount_Term', 'Credit_History', 'Property_Area'],\n",
              "      dtype='object')"
            ]
          },
          "metadata": {},
          "execution_count": 3
        }
      ]
    },
    {
      "cell_type": "code",
      "source": [
        "test_data.head()"
      ],
      "metadata": {
        "colab": {
          "base_uri": "https://localhost:8080/",
          "height": 206
        },
        "id": "foiI3YrGr_Zr",
        "outputId": "27ac2fea-24fd-4722-c044-62469e6eba44"
      },
      "execution_count": 4,
      "outputs": [
        {
          "output_type": "execute_result",
          "data": {
            "text/plain": [
              "    Loan_ID Gender Married Dependents     Education Self_Employed  \\\n",
              "0  LP001015   Male     Yes          0      Graduate            No   \n",
              "1  LP001022   Male     Yes          1      Graduate            No   \n",
              "2  LP001031   Male     Yes          2      Graduate            No   \n",
              "3  LP001035   Male     Yes          2      Graduate            No   \n",
              "4  LP001051   Male      No          0  Not Graduate            No   \n",
              "\n",
              "   ApplicantIncome  CoapplicantIncome  LoanAmount  Loan_Amount_Term  \\\n",
              "0             5720                  0       110.0             360.0   \n",
              "1             3076               1500       126.0             360.0   \n",
              "2             5000               1800       208.0             360.0   \n",
              "3             2340               2546       100.0             360.0   \n",
              "4             3276                  0        78.0             360.0   \n",
              "\n",
              "   Credit_History Property_Area  \n",
              "0             1.0         Urban  \n",
              "1             1.0         Urban  \n",
              "2             1.0         Urban  \n",
              "3             NaN         Urban  \n",
              "4             1.0         Urban  "
            ],
            "text/html": [
              "\n",
              "  <div id=\"df-5a7ba569-4916-49db-9b8e-1fd5a444aa7e\" class=\"colab-df-container\">\n",
              "    <div>\n",
              "<style scoped>\n",
              "    .dataframe tbody tr th:only-of-type {\n",
              "        vertical-align: middle;\n",
              "    }\n",
              "\n",
              "    .dataframe tbody tr th {\n",
              "        vertical-align: top;\n",
              "    }\n",
              "\n",
              "    .dataframe thead th {\n",
              "        text-align: right;\n",
              "    }\n",
              "</style>\n",
              "<table border=\"1\" class=\"dataframe\">\n",
              "  <thead>\n",
              "    <tr style=\"text-align: right;\">\n",
              "      <th></th>\n",
              "      <th>Loan_ID</th>\n",
              "      <th>Gender</th>\n",
              "      <th>Married</th>\n",
              "      <th>Dependents</th>\n",
              "      <th>Education</th>\n",
              "      <th>Self_Employed</th>\n",
              "      <th>ApplicantIncome</th>\n",
              "      <th>CoapplicantIncome</th>\n",
              "      <th>LoanAmount</th>\n",
              "      <th>Loan_Amount_Term</th>\n",
              "      <th>Credit_History</th>\n",
              "      <th>Property_Area</th>\n",
              "    </tr>\n",
              "  </thead>\n",
              "  <tbody>\n",
              "    <tr>\n",
              "      <th>0</th>\n",
              "      <td>LP001015</td>\n",
              "      <td>Male</td>\n",
              "      <td>Yes</td>\n",
              "      <td>0</td>\n",
              "      <td>Graduate</td>\n",
              "      <td>No</td>\n",
              "      <td>5720</td>\n",
              "      <td>0</td>\n",
              "      <td>110.0</td>\n",
              "      <td>360.0</td>\n",
              "      <td>1.0</td>\n",
              "      <td>Urban</td>\n",
              "    </tr>\n",
              "    <tr>\n",
              "      <th>1</th>\n",
              "      <td>LP001022</td>\n",
              "      <td>Male</td>\n",
              "      <td>Yes</td>\n",
              "      <td>1</td>\n",
              "      <td>Graduate</td>\n",
              "      <td>No</td>\n",
              "      <td>3076</td>\n",
              "      <td>1500</td>\n",
              "      <td>126.0</td>\n",
              "      <td>360.0</td>\n",
              "      <td>1.0</td>\n",
              "      <td>Urban</td>\n",
              "    </tr>\n",
              "    <tr>\n",
              "      <th>2</th>\n",
              "      <td>LP001031</td>\n",
              "      <td>Male</td>\n",
              "      <td>Yes</td>\n",
              "      <td>2</td>\n",
              "      <td>Graduate</td>\n",
              "      <td>No</td>\n",
              "      <td>5000</td>\n",
              "      <td>1800</td>\n",
              "      <td>208.0</td>\n",
              "      <td>360.0</td>\n",
              "      <td>1.0</td>\n",
              "      <td>Urban</td>\n",
              "    </tr>\n",
              "    <tr>\n",
              "      <th>3</th>\n",
              "      <td>LP001035</td>\n",
              "      <td>Male</td>\n",
              "      <td>Yes</td>\n",
              "      <td>2</td>\n",
              "      <td>Graduate</td>\n",
              "      <td>No</td>\n",
              "      <td>2340</td>\n",
              "      <td>2546</td>\n",
              "      <td>100.0</td>\n",
              "      <td>360.0</td>\n",
              "      <td>NaN</td>\n",
              "      <td>Urban</td>\n",
              "    </tr>\n",
              "    <tr>\n",
              "      <th>4</th>\n",
              "      <td>LP001051</td>\n",
              "      <td>Male</td>\n",
              "      <td>No</td>\n",
              "      <td>0</td>\n",
              "      <td>Not Graduate</td>\n",
              "      <td>No</td>\n",
              "      <td>3276</td>\n",
              "      <td>0</td>\n",
              "      <td>78.0</td>\n",
              "      <td>360.0</td>\n",
              "      <td>1.0</td>\n",
              "      <td>Urban</td>\n",
              "    </tr>\n",
              "  </tbody>\n",
              "</table>\n",
              "</div>\n",
              "    <div class=\"colab-df-buttons\">\n",
              "\n",
              "  <div class=\"colab-df-container\">\n",
              "    <button class=\"colab-df-convert\" onclick=\"convertToInteractive('df-5a7ba569-4916-49db-9b8e-1fd5a444aa7e')\"\n",
              "            title=\"Convert this dataframe to an interactive table.\"\n",
              "            style=\"display:none;\">\n",
              "\n",
              "  <svg xmlns=\"http://www.w3.org/2000/svg\" height=\"24px\" viewBox=\"0 -960 960 960\">\n",
              "    <path d=\"M120-120v-720h720v720H120Zm60-500h600v-160H180v160Zm220 220h160v-160H400v160Zm0 220h160v-160H400v160ZM180-400h160v-160H180v160Zm440 0h160v-160H620v160ZM180-180h160v-160H180v160Zm440 0h160v-160H620v160Z\"/>\n",
              "  </svg>\n",
              "    </button>\n",
              "\n",
              "  <style>\n",
              "    .colab-df-container {\n",
              "      display:flex;\n",
              "      gap: 12px;\n",
              "    }\n",
              "\n",
              "    .colab-df-convert {\n",
              "      background-color: #E8F0FE;\n",
              "      border: none;\n",
              "      border-radius: 50%;\n",
              "      cursor: pointer;\n",
              "      display: none;\n",
              "      fill: #1967D2;\n",
              "      height: 32px;\n",
              "      padding: 0 0 0 0;\n",
              "      width: 32px;\n",
              "    }\n",
              "\n",
              "    .colab-df-convert:hover {\n",
              "      background-color: #E2EBFA;\n",
              "      box-shadow: 0px 1px 2px rgba(60, 64, 67, 0.3), 0px 1px 3px 1px rgba(60, 64, 67, 0.15);\n",
              "      fill: #174EA6;\n",
              "    }\n",
              "\n",
              "    .colab-df-buttons div {\n",
              "      margin-bottom: 4px;\n",
              "    }\n",
              "\n",
              "    [theme=dark] .colab-df-convert {\n",
              "      background-color: #3B4455;\n",
              "      fill: #D2E3FC;\n",
              "    }\n",
              "\n",
              "    [theme=dark] .colab-df-convert:hover {\n",
              "      background-color: #434B5C;\n",
              "      box-shadow: 0px 1px 3px 1px rgba(0, 0, 0, 0.15);\n",
              "      filter: drop-shadow(0px 1px 2px rgba(0, 0, 0, 0.3));\n",
              "      fill: #FFFFFF;\n",
              "    }\n",
              "  </style>\n",
              "\n",
              "    <script>\n",
              "      const buttonEl =\n",
              "        document.querySelector('#df-5a7ba569-4916-49db-9b8e-1fd5a444aa7e button.colab-df-convert');\n",
              "      buttonEl.style.display =\n",
              "        google.colab.kernel.accessAllowed ? 'block' : 'none';\n",
              "\n",
              "      async function convertToInteractive(key) {\n",
              "        const element = document.querySelector('#df-5a7ba569-4916-49db-9b8e-1fd5a444aa7e');\n",
              "        const dataTable =\n",
              "          await google.colab.kernel.invokeFunction('convertToInteractive',\n",
              "                                                    [key], {});\n",
              "        if (!dataTable) return;\n",
              "\n",
              "        const docLinkHtml = 'Like what you see? Visit the ' +\n",
              "          '<a target=\"_blank\" href=https://colab.research.google.com/notebooks/data_table.ipynb>data table notebook</a>'\n",
              "          + ' to learn more about interactive tables.';\n",
              "        element.innerHTML = '';\n",
              "        dataTable['output_type'] = 'display_data';\n",
              "        await google.colab.output.renderOutput(dataTable, element);\n",
              "        const docLink = document.createElement('div');\n",
              "        docLink.innerHTML = docLinkHtml;\n",
              "        element.appendChild(docLink);\n",
              "      }\n",
              "    </script>\n",
              "  </div>\n",
              "\n",
              "\n",
              "<div id=\"df-5ecf5341-3cd7-4155-a294-951f6be53f0c\">\n",
              "  <button class=\"colab-df-quickchart\" onclick=\"quickchart('df-5ecf5341-3cd7-4155-a294-951f6be53f0c')\"\n",
              "            title=\"Suggest charts\"\n",
              "            style=\"display:none;\">\n",
              "\n",
              "<svg xmlns=\"http://www.w3.org/2000/svg\" height=\"24px\"viewBox=\"0 0 24 24\"\n",
              "     width=\"24px\">\n",
              "    <g>\n",
              "        <path d=\"M19 3H5c-1.1 0-2 .9-2 2v14c0 1.1.9 2 2 2h14c1.1 0 2-.9 2-2V5c0-1.1-.9-2-2-2zM9 17H7v-7h2v7zm4 0h-2V7h2v10zm4 0h-2v-4h2v4z\"/>\n",
              "    </g>\n",
              "</svg>\n",
              "  </button>\n",
              "\n",
              "<style>\n",
              "  .colab-df-quickchart {\n",
              "      --bg-color: #E8F0FE;\n",
              "      --fill-color: #1967D2;\n",
              "      --hover-bg-color: #E2EBFA;\n",
              "      --hover-fill-color: #174EA6;\n",
              "      --disabled-fill-color: #AAA;\n",
              "      --disabled-bg-color: #DDD;\n",
              "  }\n",
              "\n",
              "  [theme=dark] .colab-df-quickchart {\n",
              "      --bg-color: #3B4455;\n",
              "      --fill-color: #D2E3FC;\n",
              "      --hover-bg-color: #434B5C;\n",
              "      --hover-fill-color: #FFFFFF;\n",
              "      --disabled-bg-color: #3B4455;\n",
              "      --disabled-fill-color: #666;\n",
              "  }\n",
              "\n",
              "  .colab-df-quickchart {\n",
              "    background-color: var(--bg-color);\n",
              "    border: none;\n",
              "    border-radius: 50%;\n",
              "    cursor: pointer;\n",
              "    display: none;\n",
              "    fill: var(--fill-color);\n",
              "    height: 32px;\n",
              "    padding: 0;\n",
              "    width: 32px;\n",
              "  }\n",
              "\n",
              "  .colab-df-quickchart:hover {\n",
              "    background-color: var(--hover-bg-color);\n",
              "    box-shadow: 0 1px 2px rgba(60, 64, 67, 0.3), 0 1px 3px 1px rgba(60, 64, 67, 0.15);\n",
              "    fill: var(--button-hover-fill-color);\n",
              "  }\n",
              "\n",
              "  .colab-df-quickchart-complete:disabled,\n",
              "  .colab-df-quickchart-complete:disabled:hover {\n",
              "    background-color: var(--disabled-bg-color);\n",
              "    fill: var(--disabled-fill-color);\n",
              "    box-shadow: none;\n",
              "  }\n",
              "\n",
              "  .colab-df-spinner {\n",
              "    border: 2px solid var(--fill-color);\n",
              "    border-color: transparent;\n",
              "    border-bottom-color: var(--fill-color);\n",
              "    animation:\n",
              "      spin 1s steps(1) infinite;\n",
              "  }\n",
              "\n",
              "  @keyframes spin {\n",
              "    0% {\n",
              "      border-color: transparent;\n",
              "      border-bottom-color: var(--fill-color);\n",
              "      border-left-color: var(--fill-color);\n",
              "    }\n",
              "    20% {\n",
              "      border-color: transparent;\n",
              "      border-left-color: var(--fill-color);\n",
              "      border-top-color: var(--fill-color);\n",
              "    }\n",
              "    30% {\n",
              "      border-color: transparent;\n",
              "      border-left-color: var(--fill-color);\n",
              "      border-top-color: var(--fill-color);\n",
              "      border-right-color: var(--fill-color);\n",
              "    }\n",
              "    40% {\n",
              "      border-color: transparent;\n",
              "      border-right-color: var(--fill-color);\n",
              "      border-top-color: var(--fill-color);\n",
              "    }\n",
              "    60% {\n",
              "      border-color: transparent;\n",
              "      border-right-color: var(--fill-color);\n",
              "    }\n",
              "    80% {\n",
              "      border-color: transparent;\n",
              "      border-right-color: var(--fill-color);\n",
              "      border-bottom-color: var(--fill-color);\n",
              "    }\n",
              "    90% {\n",
              "      border-color: transparent;\n",
              "      border-bottom-color: var(--fill-color);\n",
              "    }\n",
              "  }\n",
              "</style>\n",
              "\n",
              "  <script>\n",
              "    async function quickchart(key) {\n",
              "      const quickchartButtonEl =\n",
              "        document.querySelector('#' + key + ' button');\n",
              "      quickchartButtonEl.disabled = true;  // To prevent multiple clicks.\n",
              "      quickchartButtonEl.classList.add('colab-df-spinner');\n",
              "      try {\n",
              "        const charts = await google.colab.kernel.invokeFunction(\n",
              "            'suggestCharts', [key], {});\n",
              "      } catch (error) {\n",
              "        console.error('Error during call to suggestCharts:', error);\n",
              "      }\n",
              "      quickchartButtonEl.classList.remove('colab-df-spinner');\n",
              "      quickchartButtonEl.classList.add('colab-df-quickchart-complete');\n",
              "    }\n",
              "    (() => {\n",
              "      let quickchartButtonEl =\n",
              "        document.querySelector('#df-5ecf5341-3cd7-4155-a294-951f6be53f0c button');\n",
              "      quickchartButtonEl.style.display =\n",
              "        google.colab.kernel.accessAllowed ? 'block' : 'none';\n",
              "    })();\n",
              "  </script>\n",
              "</div>\n",
              "\n",
              "    </div>\n",
              "  </div>\n"
            ]
          },
          "metadata": {},
          "execution_count": 4
        }
      ]
    },
    {
      "cell_type": "code",
      "source": [
        "test_data.dtypes"
      ],
      "metadata": {
        "colab": {
          "base_uri": "https://localhost:8080/"
        },
        "id": "35RQtA3WsEJV",
        "outputId": "a70af6d3-5e8f-4926-edc0-bc063cb7bc32"
      },
      "execution_count": 5,
      "outputs": [
        {
          "output_type": "execute_result",
          "data": {
            "text/plain": [
              "Loan_ID               object\n",
              "Gender                object\n",
              "Married               object\n",
              "Dependents            object\n",
              "Education             object\n",
              "Self_Employed         object\n",
              "ApplicantIncome        int64\n",
              "CoapplicantIncome      int64\n",
              "LoanAmount           float64\n",
              "Loan_Amount_Term     float64\n",
              "Credit_History       float64\n",
              "Property_Area         object\n",
              "dtype: object"
            ]
          },
          "metadata": {},
          "execution_count": 5
        }
      ]
    },
    {
      "cell_type": "code",
      "source": [
        "test_data.isna().sum()"
      ],
      "metadata": {
        "colab": {
          "base_uri": "https://localhost:8080/"
        },
        "id": "Hrm8h3t3sH9t",
        "outputId": "3e8ebd5b-50a4-4026-cf5f-fe8e43ccae86"
      },
      "execution_count": 6,
      "outputs": [
        {
          "output_type": "execute_result",
          "data": {
            "text/plain": [
              "Loan_ID               0\n",
              "Gender               11\n",
              "Married               0\n",
              "Dependents           10\n",
              "Education             0\n",
              "Self_Employed        23\n",
              "ApplicantIncome       0\n",
              "CoapplicantIncome     0\n",
              "LoanAmount            5\n",
              "Loan_Amount_Term      6\n",
              "Credit_History       29\n",
              "Property_Area         0\n",
              "dtype: int64"
            ]
          },
          "metadata": {},
          "execution_count": 6
        }
      ]
    },
    {
      "cell_type": "code",
      "source": [
        "#missing value handling in Gender,it is an object.so categorical column filled with mode"
      ],
      "metadata": {
        "id": "IlKblxIVsM01"
      },
      "execution_count": 7,
      "outputs": []
    },
    {
      "cell_type": "code",
      "source": [
        "test_data['Gender'].unique()"
      ],
      "metadata": {
        "colab": {
          "base_uri": "https://localhost:8080/"
        },
        "id": "u8l5htQOsVgN",
        "outputId": "0be6ec2b-d8eb-4a29-d9c5-ab72fe55ce6e"
      },
      "execution_count": 8,
      "outputs": [
        {
          "output_type": "execute_result",
          "data": {
            "text/plain": [
              "array(['Male', 'Female', nan], dtype=object)"
            ]
          },
          "metadata": {},
          "execution_count": 8
        }
      ]
    },
    {
      "cell_type": "code",
      "source": [
        "test_data['Gender'].value_counts()"
      ],
      "metadata": {
        "colab": {
          "base_uri": "https://localhost:8080/"
        },
        "id": "iU2okts6sZxV",
        "outputId": "a38bbc9d-ffcb-458c-a189-593803f2b15a"
      },
      "execution_count": 9,
      "outputs": [
        {
          "output_type": "execute_result",
          "data": {
            "text/plain": [
              "Male      286\n",
              "Female     70\n",
              "Name: Gender, dtype: int64"
            ]
          },
          "metadata": {},
          "execution_count": 9
        }
      ]
    },
    {
      "cell_type": "code",
      "source": [
        "test_data['Gender']=test_data['Gender'].fillna('Male')"
      ],
      "metadata": {
        "id": "gs_0yvJ9sd0Q"
      },
      "execution_count": 10,
      "outputs": []
    },
    {
      "cell_type": "code",
      "source": [
        "test_data.isna().sum()"
      ],
      "metadata": {
        "colab": {
          "base_uri": "https://localhost:8080/"
        },
        "id": "PKUKwcXQsjmz",
        "outputId": "e962b860-89ae-4c77-f0c7-d2119a3934cd"
      },
      "execution_count": 11,
      "outputs": [
        {
          "output_type": "execute_result",
          "data": {
            "text/plain": [
              "Loan_ID               0\n",
              "Gender                0\n",
              "Married               0\n",
              "Dependents           10\n",
              "Education             0\n",
              "Self_Employed        23\n",
              "ApplicantIncome       0\n",
              "CoapplicantIncome     0\n",
              "LoanAmount            5\n",
              "Loan_Amount_Term      6\n",
              "Credit_History       29\n",
              "Property_Area         0\n",
              "dtype: int64"
            ]
          },
          "metadata": {},
          "execution_count": 11
        }
      ]
    },
    {
      "cell_type": "code",
      "source": [],
      "metadata": {
        "id": "jcc4tXLYso3C"
      },
      "execution_count": null,
      "outputs": []
    },
    {
      "cell_type": "code",
      "source": [
        "#missing value handling in Dependents,it is an object.so categorical column filled with mode"
      ],
      "metadata": {
        "id": "7xsVTQcGspH4"
      },
      "execution_count": 12,
      "outputs": []
    },
    {
      "cell_type": "code",
      "source": [
        "test_data['Dependents'].unique()"
      ],
      "metadata": {
        "colab": {
          "base_uri": "https://localhost:8080/"
        },
        "id": "t2ZBzKhfsuSv",
        "outputId": "e3042868-b598-4d94-bd20-2a6f5dfdb5b9"
      },
      "execution_count": 13,
      "outputs": [
        {
          "output_type": "execute_result",
          "data": {
            "text/plain": [
              "array(['0', '1', '2', '3+', nan], dtype=object)"
            ]
          },
          "metadata": {},
          "execution_count": 13
        }
      ]
    },
    {
      "cell_type": "code",
      "source": [
        "test_data['Dependents'].value_counts()"
      ],
      "metadata": {
        "colab": {
          "base_uri": "https://localhost:8080/"
        },
        "id": "nTtStiIasyH2",
        "outputId": "b46e0346-4be2-4955-da55-29533f1f336a"
      },
      "execution_count": 14,
      "outputs": [
        {
          "output_type": "execute_result",
          "data": {
            "text/plain": [
              "0     200\n",
              "2      59\n",
              "1      58\n",
              "3+     40\n",
              "Name: Dependents, dtype: int64"
            ]
          },
          "metadata": {},
          "execution_count": 14
        }
      ]
    },
    {
      "cell_type": "code",
      "source": [
        "test_data['Dependents']=test_data['Dependents'].fillna('0')"
      ],
      "metadata": {
        "id": "QOgR8QWXs26t"
      },
      "execution_count": 15,
      "outputs": []
    },
    {
      "cell_type": "code",
      "source": [
        "test_data.isna().sum()"
      ],
      "metadata": {
        "colab": {
          "base_uri": "https://localhost:8080/"
        },
        "id": "rhqwHzvhs7XP",
        "outputId": "ca809ff4-39d4-4fcd-fb2b-5d4575f1187a"
      },
      "execution_count": 16,
      "outputs": [
        {
          "output_type": "execute_result",
          "data": {
            "text/plain": [
              "Loan_ID               0\n",
              "Gender                0\n",
              "Married               0\n",
              "Dependents            0\n",
              "Education             0\n",
              "Self_Employed        23\n",
              "ApplicantIncome       0\n",
              "CoapplicantIncome     0\n",
              "LoanAmount            5\n",
              "Loan_Amount_Term      6\n",
              "Credit_History       29\n",
              "Property_Area         0\n",
              "dtype: int64"
            ]
          },
          "metadata": {},
          "execution_count": 16
        }
      ]
    },
    {
      "cell_type": "code",
      "source": [
        "#missing value handling in Self_Employed also an object so filled with mode"
      ],
      "metadata": {
        "id": "rqhbF_yEtAPX"
      },
      "execution_count": 17,
      "outputs": []
    },
    {
      "cell_type": "code",
      "source": [
        "test_data['Self_Employed'].value_counts()"
      ],
      "metadata": {
        "colab": {
          "base_uri": "https://localhost:8080/"
        },
        "id": "3vorU36HtFdy",
        "outputId": "11bf402b-5a31-4749-9633-bbbc82f3f05e"
      },
      "execution_count": 18,
      "outputs": [
        {
          "output_type": "execute_result",
          "data": {
            "text/plain": [
              "No     307\n",
              "Yes     37\n",
              "Name: Self_Employed, dtype: int64"
            ]
          },
          "metadata": {},
          "execution_count": 18
        }
      ]
    },
    {
      "cell_type": "code",
      "source": [
        "test_data['Self_Employed']=test_data['Self_Employed'].fillna('No')"
      ],
      "metadata": {
        "id": "3J_GQMiutI9h"
      },
      "execution_count": 19,
      "outputs": []
    },
    {
      "cell_type": "code",
      "source": [
        "test_data.isna().sum()"
      ],
      "metadata": {
        "colab": {
          "base_uri": "https://localhost:8080/"
        },
        "id": "UpdkRV-wtPF4",
        "outputId": "3c39e288-2a41-4019-871d-414814445e6e"
      },
      "execution_count": 20,
      "outputs": [
        {
          "output_type": "execute_result",
          "data": {
            "text/plain": [
              "Loan_ID               0\n",
              "Gender                0\n",
              "Married               0\n",
              "Dependents            0\n",
              "Education             0\n",
              "Self_Employed         0\n",
              "ApplicantIncome       0\n",
              "CoapplicantIncome     0\n",
              "LoanAmount            5\n",
              "Loan_Amount_Term      6\n",
              "Credit_History       29\n",
              "Property_Area         0\n",
              "dtype: int64"
            ]
          },
          "metadata": {},
          "execution_count": 20
        }
      ]
    },
    {
      "cell_type": "code",
      "source": [
        "#missing value handling in LoanAmount . It is float, so fill with mean/median"
      ],
      "metadata": {
        "id": "et6mHtn1tUJ3"
      },
      "execution_count": 21,
      "outputs": []
    },
    {
      "cell_type": "code",
      "source": [
        "plt.hist(test_data['LoanAmount'])\n",
        "plt.title('Distribution of Loan Amount')\n",
        "plt.xlabel('LoanAmount')\n",
        "plt.ylabel('frequency')"
      ],
      "metadata": {
        "colab": {
          "base_uri": "https://localhost:8080/",
          "height": 489
        },
        "id": "tQs4BFnUuApY",
        "outputId": "32b39b52-8661-470d-80f4-2232aa174f8e"
      },
      "execution_count": 22,
      "outputs": [
        {
          "output_type": "execute_result",
          "data": {
            "text/plain": [
              "Text(0, 0.5, 'frequency')"
            ]
          },
          "metadata": {},
          "execution_count": 22
        },
        {
          "output_type": "display_data",
          "data": {
            "text/plain": [
              "<Figure size 640x480 with 1 Axes>"
            ],
            "image/png": "[encoded data removed]"
          },
          "metadata": {}
        }
      ]
    },
    {
      "cell_type": "code",
      "source": [
        "#Normal distribution for LoanAmount .So fill with mean"
      ],
      "metadata": {
        "id": "z2HjZh1UuFjF"
      },
      "execution_count": 23,
      "outputs": []
    },
    {
      "cell_type": "code",
      "source": [
        "test_data['LoanAmount']=test_data['LoanAmount'].fillna(test_data['LoanAmount'].mean())"
      ],
      "metadata": {
        "id": "7VTMgjPYuMgu"
      },
      "execution_count": 24,
      "outputs": []
    },
    {
      "cell_type": "code",
      "source": [
        "test_data.isna().sum()"
      ],
      "metadata": {
        "colab": {
          "base_uri": "https://localhost:8080/"
        },
        "id": "7bySHAYluOfE",
        "outputId": "764d9e28-cd0d-46be-fe0b-bc96889ad589"
      },
      "execution_count": 25,
      "outputs": [
        {
          "output_type": "execute_result",
          "data": {
            "text/plain": [
              "Loan_ID               0\n",
              "Gender                0\n",
              "Married               0\n",
              "Dependents            0\n",
              "Education             0\n",
              "Self_Employed         0\n",
              "ApplicantIncome       0\n",
              "CoapplicantIncome     0\n",
              "LoanAmount            0\n",
              "Loan_Amount_Term      6\n",
              "Credit_History       29\n",
              "Property_Area         0\n",
              "dtype: int64"
            ]
          },
          "metadata": {},
          "execution_count": 25
        }
      ]
    },
    {
      "cell_type": "code",
      "source": [
        "#missing value handling in Loan_Amount_Term . It is float, so fill with mean/median"
      ],
      "metadata": {
        "id": "0dUUvS8buTYg"
      },
      "execution_count": 26,
      "outputs": []
    },
    {
      "cell_type": "code",
      "source": [
        "plt.hist(test_data['Loan_Amount_Term'])\n",
        "plt.title('Distribution of Loan Amount Term')\n",
        "plt.xlabel('LoanAmountTerm')\n",
        "plt.ylabel('frequency')"
      ],
      "metadata": {
        "colab": {
          "base_uri": "https://localhost:8080/",
          "height": 489
        },
        "id": "Itm8j3acuYg_",
        "outputId": "5a0f61cb-eb9d-4e30-fe6f-a26c150f221f"
      },
      "execution_count": 27,
      "outputs": [
        {
          "output_type": "execute_result",
          "data": {
            "text/plain": [
              "Text(0, 0.5, 'frequency')"
            ]
          },
          "metadata": {},
          "execution_count": 27
        },
        {
          "output_type": "display_data",
          "data": {
            "text/plain": [
              "<Figure size 640x480 with 1 Axes>"
            ],
            "image/png": "[encoded data removed]"
          },
          "metadata": {}
        }
      ]
    },
    {
      "cell_type": "code",
      "source": [
        "#Left skewed data of loanamountterm.S fill with median"
      ],
      "metadata": {
        "id": "JW-F61QEudca"
      },
      "execution_count": 28,
      "outputs": []
    },
    {
      "cell_type": "code",
      "source": [
        "test_data['Loan_Amount_Term']=test_data['Loan_Amount_Term'].fillna(test_data['Loan_Amount_Term'].median())\n",
        "test_data.isna().sum()"
      ],
      "metadata": {
        "colab": {
          "base_uri": "https://localhost:8080/"
        },
        "id": "GE9EQxixuipS",
        "outputId": "5c1aa876-02c9-4d54-93ef-e875127ff9b4"
      },
      "execution_count": 29,
      "outputs": [
        {
          "output_type": "execute_result",
          "data": {
            "text/plain": [
              "Loan_ID               0\n",
              "Gender                0\n",
              "Married               0\n",
              "Dependents            0\n",
              "Education             0\n",
              "Self_Employed         0\n",
              "ApplicantIncome       0\n",
              "CoapplicantIncome     0\n",
              "LoanAmount            0\n",
              "Loan_Amount_Term      0\n",
              "Credit_History       29\n",
              "Property_Area         0\n",
              "dtype: int64"
            ]
          },
          "metadata": {},
          "execution_count": 29
        }
      ]
    },
    {
      "cell_type": "code",
      "source": [
        "#missing value handling in Credit_History.It is float.so fill with mean/median"
      ],
      "metadata": {
        "id": "5bWq8KoduqK4"
      },
      "execution_count": 30,
      "outputs": []
    },
    {
      "cell_type": "code",
      "source": [
        "plt.hist(test_data['Credit_History'])\n",
        "plt.title('Distribution of Credit_History')\n",
        "plt.xlabel('Credit_History')\n",
        "plt.ylabel('frequency')"
      ],
      "metadata": {
        "colab": {
          "base_uri": "https://localhost:8080/",
          "height": 489
        },
        "id": "NtCwBFj7uycW",
        "outputId": "a9e6fe42-5e3a-4958-d2cd-70c77a9c4f34"
      },
      "execution_count": 31,
      "outputs": [
        {
          "output_type": "execute_result",
          "data": {
            "text/plain": [
              "Text(0, 0.5, 'frequency')"
            ]
          },
          "metadata": {},
          "execution_count": 31
        },
        {
          "output_type": "display_data",
          "data": {
            "text/plain": [
              "<Figure size 640x480 with 1 Axes>"
            ],
            "image/png": "[encoded data removed]"
          },
          "metadata": {}
        }
      ]
    },
    {
      "cell_type": "code",
      "source": [
        "#Left skewed data of Credit_History.So fill with median"
      ],
      "metadata": {
        "id": "lkxDWJ1ju35U"
      },
      "execution_count": 32,
      "outputs": []
    },
    {
      "cell_type": "code",
      "source": [
        "test_data['Credit_History']=test_data['Credit_History'].fillna(test_data['Credit_History'].median())"
      ],
      "metadata": {
        "id": "eVFGUIM3u8Qe"
      },
      "execution_count": 33,
      "outputs": []
    },
    {
      "cell_type": "code",
      "source": [
        "test_data.isna().sum()"
      ],
      "metadata": {
        "colab": {
          "base_uri": "https://localhost:8080/"
        },
        "id": "gL4TKuyevA5q",
        "outputId": "e29cb8ef-7001-4594-90cf-c783fe318e7d"
      },
      "execution_count": 34,
      "outputs": [
        {
          "output_type": "execute_result",
          "data": {
            "text/plain": [
              "Loan_ID              0\n",
              "Gender               0\n",
              "Married              0\n",
              "Dependents           0\n",
              "Education            0\n",
              "Self_Employed        0\n",
              "ApplicantIncome      0\n",
              "CoapplicantIncome    0\n",
              "LoanAmount           0\n",
              "Loan_Amount_Term     0\n",
              "Credit_History       0\n",
              "Property_Area        0\n",
              "dtype: int64"
            ]
          },
          "metadata": {},
          "execution_count": 34
        }
      ]
    },
    {
      "cell_type": "code",
      "source": [
        "test_data.dtypes"
      ],
      "metadata": {
        "colab": {
          "base_uri": "https://localhost:8080/"
        },
        "id": "k1zy775NvEAV",
        "outputId": "418a0441-dafb-4b43-8736-81fdf5f8fb3d"
      },
      "execution_count": 35,
      "outputs": [
        {
          "output_type": "execute_result",
          "data": {
            "text/plain": [
              "Loan_ID               object\n",
              "Gender                object\n",
              "Married               object\n",
              "Dependents            object\n",
              "Education             object\n",
              "Self_Employed         object\n",
              "ApplicantIncome        int64\n",
              "CoapplicantIncome      int64\n",
              "LoanAmount           float64\n",
              "Loan_Amount_Term     float64\n",
              "Credit_History       float64\n",
              "Property_Area         object\n",
              "dtype: object"
            ]
          },
          "metadata": {},
          "execution_count": 35
        }
      ]
    },
    {
      "cell_type": "code",
      "source": [
        "#Encode Loan_ID to Int\n",
        "test_data['Loan_ID'].unique()"
      ],
      "metadata": {
        "colab": {
          "base_uri": "https://localhost:8080/"
        },
        "id": "4AWkYSU4vIum",
        "outputId": "39e78a22-eb71-4383-95ed-e7c30abf5887"
      },
      "execution_count": 36,
      "outputs": [
        {
          "output_type": "execute_result",
          "data": {
            "text/plain": [
              "array(['LP001015', 'LP001022', 'LP001031', 'LP001035', 'LP001051',\n",
              "       'LP001054', 'LP001055', 'LP001056', 'LP001059', 'LP001067',\n",
              "       'LP001078', 'LP001082', 'LP001083', 'LP001094', 'LP001096',\n",
              "       'LP001099', 'LP001105', 'LP001107', 'LP001108', 'LP001115',\n",
              "       'LP001121', 'LP001124', 'LP001128', 'LP001135', 'LP001149',\n",
              "       'LP001153', 'LP001163', 'LP001169', 'LP001174', 'LP001176',\n",
              "       'LP001177', 'LP001183', 'LP001185', 'LP001187', 'LP001190',\n",
              "       'LP001203', 'LP001208', 'LP001210', 'LP001211', 'LP001219',\n",
              "       'LP001220', 'LP001221', 'LP001226', 'LP001230', 'LP001231',\n",
              "       'LP001232', 'LP001237', 'LP001242', 'LP001268', 'LP001270',\n",
              "       'LP001284', 'LP001287', 'LP001291', 'LP001298', 'LP001312',\n",
              "       'LP001313', 'LP001317', 'LP001321', 'LP001323', 'LP001324',\n",
              "       'LP001332', 'LP001335', 'LP001338', 'LP001347', 'LP001348',\n",
              "       'LP001351', 'LP001352', 'LP001358', 'LP001359', 'LP001361',\n",
              "       'LP001366', 'LP001368', 'LP001375', 'LP001380', 'LP001386',\n",
              "       'LP001400', 'LP001407', 'LP001413', 'LP001415', 'LP001419',\n",
              "       'LP001420', 'LP001428', 'LP001445', 'LP001446', 'LP001450',\n",
              "       'LP001452', 'LP001455', 'LP001466', 'LP001471', 'LP001472',\n",
              "       'LP001475', 'LP001483', 'LP001486', 'LP001490', 'LP001496',\n",
              "       'LP001499', 'LP001500', 'LP001501', 'LP001517', 'LP001527',\n",
              "       'LP001534', 'LP001542', 'LP001547', 'LP001548', 'LP001558',\n",
              "       'LP001561', 'LP001563', 'LP001567', 'LP001568', 'LP001573',\n",
              "       'LP001584', 'LP001587', 'LP001589', 'LP001591', 'LP001599',\n",
              "       'LP001601', 'LP001607', 'LP001611', 'LP001613', 'LP001622',\n",
              "       'LP001627', 'LP001650', 'LP001651', 'LP001652', 'LP001655',\n",
              "       'LP001660', 'LP001662', 'LP001663', 'LP001667', 'LP001695',\n",
              "       'LP001703', 'LP001718', 'LP001728', 'LP001735', 'LP001737',\n",
              "       'LP001739', 'LP001742', 'LP001757', 'LP001769', 'LP001771',\n",
              "       'LP001785', 'LP001787', 'LP001789', 'LP001791', 'LP001794',\n",
              "       'LP001797', 'LP001815', 'LP001817', 'LP001818', 'LP001822',\n",
              "       'LP001827', 'LP001831', 'LP001842', 'LP001853', 'LP001855',\n",
              "       'LP001857', 'LP001862', 'LP001867', 'LP001878', 'LP001881',\n",
              "       'LP001886', 'LP001906', 'LP001909', 'LP001911', 'LP001921',\n",
              "       'LP001923', 'LP001933', 'LP001943', 'LP001950', 'LP001959',\n",
              "       'LP001961', 'LP001973', 'LP001975', 'LP001979', 'LP001995',\n",
              "       'LP001999', 'LP002007', 'LP002009', 'LP002016', 'LP002017',\n",
              "       'LP002018', 'LP002027', 'LP002028', 'LP002042', 'LP002045',\n",
              "       'LP002046', 'LP002047', 'LP002056', 'LP002057', 'LP002059',\n",
              "       'LP002062', 'LP002064', 'LP002069', 'LP002070', 'LP002077',\n",
              "       'LP002083', 'LP002090', 'LP002096', 'LP002099', 'LP002102',\n",
              "       'LP002105', 'LP002107', 'LP002111', 'LP002117', 'LP002118',\n",
              "       'LP002123', 'LP002125', 'LP002148', 'LP002152', 'LP002165',\n",
              "       'LP002167', 'LP002168', 'LP002172', 'LP002176', 'LP002183',\n",
              "       'LP002184', 'LP002186', 'LP002192', 'LP002195', 'LP002208',\n",
              "       'LP002212', 'LP002240', 'LP002245', 'LP002253', 'LP002256',\n",
              "       'LP002257', 'LP002264', 'LP002270', 'LP002279', 'LP002286',\n",
              "       'LP002294', 'LP002298', 'LP002306', 'LP002310', 'LP002311',\n",
              "       'LP002316', 'LP002321', 'LP002325', 'LP002326', 'LP002329',\n",
              "       'LP002333', 'LP002339', 'LP002344', 'LP002346', 'LP002354',\n",
              "       'LP002355', 'LP002358', 'LP002360', 'LP002375', 'LP002376',\n",
              "       'LP002383', 'LP002385', 'LP002389', 'LP002394', 'LP002397',\n",
              "       'LP002399', 'LP002400', 'LP002402', 'LP002412', 'LP002415',\n",
              "       'LP002417', 'LP002420', 'LP002425', 'LP002433', 'LP002440',\n",
              "       'LP002441', 'LP002442', 'LP002445', 'LP002450', 'LP002471',\n",
              "       'LP002476', 'LP002482', 'LP002485', 'LP002495', 'LP002496',\n",
              "       'LP002523', 'LP002542', 'LP002550', 'LP002551', 'LP002553',\n",
              "       'LP002554', 'LP002561', 'LP002566', 'LP002568', 'LP002570',\n",
              "       'LP002572', 'LP002581', 'LP002584', 'LP002592', 'LP002593',\n",
              "       'LP002599', 'LP002604', 'LP002605', 'LP002609', 'LP002610',\n",
              "       'LP002612', 'LP002614', 'LP002630', 'LP002635', 'LP002639',\n",
              "       'LP002644', 'LP002651', 'LP002654', 'LP002657', 'LP002711',\n",
              "       'LP002712', 'LP002721', 'LP002735', 'LP002744', 'LP002745',\n",
              "       'LP002746', 'LP002747', 'LP002754', 'LP002759', 'LP002760',\n",
              "       'LP002766', 'LP002769', 'LP002774', 'LP002775', 'LP002781',\n",
              "       'LP002782', 'LP002786', 'LP002790', 'LP002791', 'LP002793',\n",
              "       'LP002802', 'LP002803', 'LP002805', 'LP002806', 'LP002816',\n",
              "       'LP002823', 'LP002825', 'LP002826', 'LP002843', 'LP002849',\n",
              "       'LP002850', 'LP002853', 'LP002856', 'LP002857', 'LP002858',\n",
              "       'LP002860', 'LP002867', 'LP002869', 'LP002870', 'LP002876',\n",
              "       'LP002878', 'LP002879', 'LP002885', 'LP002890', 'LP002891',\n",
              "       'LP002899', 'LP002901', 'LP002907', 'LP002920', 'LP002921',\n",
              "       'LP002932', 'LP002935', 'LP002952', 'LP002954', 'LP002962',\n",
              "       'LP002965', 'LP002969', 'LP002971', 'LP002975', 'LP002980',\n",
              "       'LP002986', 'LP002989'], dtype=object)"
            ]
          },
          "metadata": {},
          "execution_count": 36
        }
      ]
    },
    {
      "cell_type": "code",
      "source": [
        "#replace LP\n",
        "test_data['Loan_ID']=test_data['Loan_ID'].str.replace('LP','')"
      ],
      "metadata": {
        "id": "eBAbamAzvVnu"
      },
      "execution_count": 37,
      "outputs": []
    },
    {
      "cell_type": "code",
      "source": [
        "test_data['Loan_ID']=test_data['Loan_ID'].astype('int32')"
      ],
      "metadata": {
        "id": "OcGhTkafveNC"
      },
      "execution_count": 38,
      "outputs": []
    },
    {
      "cell_type": "code",
      "source": [
        "test_data.dtypes"
      ],
      "metadata": {
        "colab": {
          "base_uri": "https://localhost:8080/"
        },
        "id": "z_FK01P7vkGc",
        "outputId": "34b1f259-93a1-411d-bb5d-0c58892d2715"
      },
      "execution_count": 39,
      "outputs": [
        {
          "output_type": "execute_result",
          "data": {
            "text/plain": [
              "Loan_ID                int32\n",
              "Gender                object\n",
              "Married               object\n",
              "Dependents            object\n",
              "Education             object\n",
              "Self_Employed         object\n",
              "ApplicantIncome        int64\n",
              "CoapplicantIncome      int64\n",
              "LoanAmount           float64\n",
              "Loan_Amount_Term     float64\n",
              "Credit_History       float64\n",
              "Property_Area         object\n",
              "dtype: object"
            ]
          },
          "metadata": {},
          "execution_count": 39
        }
      ]
    },
    {
      "cell_type": "code",
      "source": [
        "#encoding Gender"
      ],
      "metadata": {
        "id": "vOQ6TaZGvnBF"
      },
      "execution_count": 40,
      "outputs": []
    },
    {
      "cell_type": "code",
      "source": [
        "test_data['Gender'].unique()"
      ],
      "metadata": {
        "colab": {
          "base_uri": "https://localhost:8080/"
        },
        "id": "2F2G75Zcvtos",
        "outputId": "010f3a1e-ac53-410c-a913-93088343e141"
      },
      "execution_count": 41,
      "outputs": [
        {
          "output_type": "execute_result",
          "data": {
            "text/plain": [
              "array(['Male', 'Female'], dtype=object)"
            ]
          },
          "metadata": {},
          "execution_count": 41
        }
      ]
    },
    {
      "cell_type": "code",
      "source": [
        "#Label encoding in Gender"
      ],
      "metadata": {
        "id": "LOJ6hDYevyKh"
      },
      "execution_count": 42,
      "outputs": []
    },
    {
      "cell_type": "code",
      "source": [
        "from sklearn.preprocessing import LabelEncoder\n",
        "le=LabelEncoder()\n",
        "test_data['Gender']=le.fit_transform(test_data['Gender'])"
      ],
      "metadata": {
        "id": "yGnAmmZOv3YX"
      },
      "execution_count": 43,
      "outputs": []
    },
    {
      "cell_type": "code",
      "source": [
        "test_data.dtypes"
      ],
      "metadata": {
        "colab": {
          "base_uri": "https://localhost:8080/"
        },
        "id": "lCYDpKxcv5i0",
        "outputId": "8d103396-92b6-43cf-e58d-6d13af8b6112"
      },
      "execution_count": 44,
      "outputs": [
        {
          "output_type": "execute_result",
          "data": {
            "text/plain": [
              "Loan_ID                int32\n",
              "Gender                 int64\n",
              "Married               object\n",
              "Dependents            object\n",
              "Education             object\n",
              "Self_Employed         object\n",
              "ApplicantIncome        int64\n",
              "CoapplicantIncome      int64\n",
              "LoanAmount           float64\n",
              "Loan_Amount_Term     float64\n",
              "Credit_History       float64\n",
              "Property_Area         object\n",
              "dtype: object"
            ]
          },
          "metadata": {},
          "execution_count": 44
        }
      ]
    },
    {
      "cell_type": "code",
      "source": [
        "#encoding Married\n",
        "test_data['Married'].unique()"
      ],
      "metadata": {
        "colab": {
          "base_uri": "https://localhost:8080/"
        },
        "id": "bu4CIja8wAGY",
        "outputId": "e77206e8-2232-4274-d8be-5c3a51ca68b6"
      },
      "execution_count": 45,
      "outputs": [
        {
          "output_type": "execute_result",
          "data": {
            "text/plain": [
              "array(['Yes', 'No'], dtype=object)"
            ]
          },
          "metadata": {},
          "execution_count": 45
        }
      ]
    },
    {
      "cell_type": "code",
      "source": [
        "from sklearn.preprocessing import LabelEncoder\n",
        "le=LabelEncoder()\n",
        "test_data['Married']=le.fit_transform(test_data['Married'])"
      ],
      "metadata": {
        "id": "aBM_oVytwULv"
      },
      "execution_count": 46,
      "outputs": []
    },
    {
      "cell_type": "code",
      "source": [
        "test_data.dtypes"
      ],
      "metadata": {
        "colab": {
          "base_uri": "https://localhost:8080/"
        },
        "id": "0gqtUd1PwWiQ",
        "outputId": "40e44bf0-2296-4bfc-d351-68d762abfc8e"
      },
      "execution_count": 47,
      "outputs": [
        {
          "output_type": "execute_result",
          "data": {
            "text/plain": [
              "Loan_ID                int32\n",
              "Gender                 int64\n",
              "Married                int64\n",
              "Dependents            object\n",
              "Education             object\n",
              "Self_Employed         object\n",
              "ApplicantIncome        int64\n",
              "CoapplicantIncome      int64\n",
              "LoanAmount           float64\n",
              "Loan_Amount_Term     float64\n",
              "Credit_History       float64\n",
              "Property_Area         object\n",
              "dtype: object"
            ]
          },
          "metadata": {},
          "execution_count": 47
        }
      ]
    },
    {
      "cell_type": "code",
      "source": [
        "#encoding Dependents\n",
        "test_data['Dependents'].unique()\n",
        "test_data['Dependents']=test_data['Dependents'].str.replace('+','')"
      ],
      "metadata": {
        "colab": {
          "base_uri": "https://localhost:8080/"
        },
        "id": "0T375rgfweDg",
        "outputId": "cc48ff7b-38f3-41fa-bc39-511993162482"
      },
      "execution_count": 48,
      "outputs": [
        {
          "output_type": "stream",
          "name": "stderr",
          "text": [
            "<ipython-input-48-dbc553058a0f>:3: FutureWarning: The default value of regex will change from True to False in a future version. In addition, single character regular expressions will *not* be treated as literal strings when regex=True.\n",
            "  test_data['Dependents']=test_data['Dependents'].str.replace('+','')\n"
          ]
        }
      ]
    },
    {
      "cell_type": "code",
      "source": [
        "test_data['Dependents']=test_data['Dependents'].astype('int32')"
      ],
      "metadata": {
        "id": "_h0KRXiawpw7"
      },
      "execution_count": 49,
      "outputs": []
    },
    {
      "cell_type": "code",
      "source": [
        "test_data.dtypes"
      ],
      "metadata": {
        "colab": {
          "base_uri": "https://localhost:8080/"
        },
        "id": "lR61wzwBwtPH",
        "outputId": "67ecd228-2f03-43de-98d7-e391df1a86bf"
      },
      "execution_count": 50,
      "outputs": [
        {
          "output_type": "execute_result",
          "data": {
            "text/plain": [
              "Loan_ID                int32\n",
              "Gender                 int64\n",
              "Married                int64\n",
              "Dependents             int32\n",
              "Education             object\n",
              "Self_Employed         object\n",
              "ApplicantIncome        int64\n",
              "CoapplicantIncome      int64\n",
              "LoanAmount           float64\n",
              "Loan_Amount_Term     float64\n",
              "Credit_History       float64\n",
              "Property_Area         object\n",
              "dtype: object"
            ]
          },
          "metadata": {},
          "execution_count": 50
        }
      ]
    },
    {
      "cell_type": "code",
      "source": [
        "#encoding Education\n",
        "test_data['Education'].unique()"
      ],
      "metadata": {
        "colab": {
          "base_uri": "https://localhost:8080/"
        },
        "id": "jtd1Z95fwzas",
        "outputId": "dbd14a39-8d5a-4153-944d-2e5d1a7df850"
      },
      "execution_count": 51,
      "outputs": [
        {
          "output_type": "execute_result",
          "data": {
            "text/plain": [
              "array(['Graduate', 'Not Graduate'], dtype=object)"
            ]
          },
          "metadata": {},
          "execution_count": 51
        }
      ]
    },
    {
      "cell_type": "code",
      "source": [
        "#Label encoding in Education\n",
        "from sklearn.preprocessing import LabelEncoder\n",
        "le=LabelEncoder()\n",
        "test_data['Education']=le.fit_transform(test_data['Education'])"
      ],
      "metadata": {
        "id": "l8zxmwSbw67_"
      },
      "execution_count": 52,
      "outputs": []
    },
    {
      "cell_type": "code",
      "source": [
        "test_data.dtypes"
      ],
      "metadata": {
        "colab": {
          "base_uri": "https://localhost:8080/"
        },
        "id": "_-cpFT6vw-Sq",
        "outputId": "05e8566a-7982-44ad-d81d-8395848e22e7"
      },
      "execution_count": 53,
      "outputs": [
        {
          "output_type": "execute_result",
          "data": {
            "text/plain": [
              "Loan_ID                int32\n",
              "Gender                 int64\n",
              "Married                int64\n",
              "Dependents             int32\n",
              "Education              int64\n",
              "Self_Employed         object\n",
              "ApplicantIncome        int64\n",
              "CoapplicantIncome      int64\n",
              "LoanAmount           float64\n",
              "Loan_Amount_Term     float64\n",
              "Credit_History       float64\n",
              "Property_Area         object\n",
              "dtype: object"
            ]
          },
          "metadata": {},
          "execution_count": 53
        }
      ]
    },
    {
      "cell_type": "code",
      "source": [
        "#encoding Self_Employed\n",
        "test_data['Self_Employed'].unique()"
      ],
      "metadata": {
        "colab": {
          "base_uri": "https://localhost:8080/"
        },
        "id": "AzgPZYgTxAFB",
        "outputId": "fc66981f-ad9d-41e2-d058-e03cdbb55d60"
      },
      "execution_count": 54,
      "outputs": [
        {
          "output_type": "execute_result",
          "data": {
            "text/plain": [
              "array(['No', 'Yes'], dtype=object)"
            ]
          },
          "metadata": {},
          "execution_count": 54
        }
      ]
    },
    {
      "cell_type": "code",
      "source": [
        "#Label encoding in Self_Employed\n",
        "from sklearn.preprocessing import LabelEncoder\n",
        "le=LabelEncoder()\n",
        "test_data['Self_Employed']=le.fit_transform(test_data['Self_Employed'])"
      ],
      "metadata": {
        "id": "fxz6EG3WxGbY"
      },
      "execution_count": 55,
      "outputs": []
    },
    {
      "cell_type": "code",
      "source": [
        "test_data.dtypes"
      ],
      "metadata": {
        "colab": {
          "base_uri": "https://localhost:8080/"
        },
        "id": "kWDtTDlZxJWm",
        "outputId": "c4fb1a6f-c762-4d9a-a249-5d76f96c4244"
      },
      "execution_count": 56,
      "outputs": [
        {
          "output_type": "execute_result",
          "data": {
            "text/plain": [
              "Loan_ID                int32\n",
              "Gender                 int64\n",
              "Married                int64\n",
              "Dependents             int32\n",
              "Education              int64\n",
              "Self_Employed          int64\n",
              "ApplicantIncome        int64\n",
              "CoapplicantIncome      int64\n",
              "LoanAmount           float64\n",
              "Loan_Amount_Term     float64\n",
              "Credit_History       float64\n",
              "Property_Area         object\n",
              "dtype: object"
            ]
          },
          "metadata": {},
          "execution_count": 56
        }
      ]
    },
    {
      "cell_type": "code",
      "source": [
        "#encoding Property_Area"
      ],
      "metadata": {
        "id": "Qtay8ns0xLH-"
      },
      "execution_count": 57,
      "outputs": []
    },
    {
      "cell_type": "code",
      "source": [
        "test_data['Property_Area'].unique()"
      ],
      "metadata": {
        "colab": {
          "base_uri": "https://localhost:8080/"
        },
        "id": "v5ehJWTAxM5H",
        "outputId": "14461a41-b3be-4a6c-8225-995bba780034"
      },
      "execution_count": 58,
      "outputs": [
        {
          "output_type": "execute_result",
          "data": {
            "text/plain": [
              "array(['Urban', 'Semiurban', 'Rural'], dtype=object)"
            ]
          },
          "metadata": {},
          "execution_count": 58
        }
      ]
    },
    {
      "cell_type": "code",
      "source": [
        "from sklearn.preprocessing import LabelEncoder\n",
        "le=LabelEncoder()\n",
        "test_data['Property_Area']=le.fit_transform(test_data['Property_Area'])"
      ],
      "metadata": {
        "id": "4GyjtDMixSK1"
      },
      "execution_count": 59,
      "outputs": []
    },
    {
      "cell_type": "code",
      "source": [
        "test_data.dtypes"
      ],
      "metadata": {
        "colab": {
          "base_uri": "https://localhost:8080/"
        },
        "id": "9C6bSXR2xT97",
        "outputId": "b52e7ced-f537-47e2-db45-84a9afb5714c"
      },
      "execution_count": 60,
      "outputs": [
        {
          "output_type": "execute_result",
          "data": {
            "text/plain": [
              "Loan_ID                int32\n",
              "Gender                 int64\n",
              "Married                int64\n",
              "Dependents             int32\n",
              "Education              int64\n",
              "Self_Employed          int64\n",
              "ApplicantIncome        int64\n",
              "CoapplicantIncome      int64\n",
              "LoanAmount           float64\n",
              "Loan_Amount_Term     float64\n",
              "Credit_History       float64\n",
              "Property_Area          int64\n",
              "dtype: object"
            ]
          },
          "metadata": {},
          "execution_count": 60
        }
      ]
    },
    {
      "cell_type": "code",
      "source": [],
      "metadata": {
        "id": "0lGGAlktxXxL"
      },
      "execution_count": null,
      "outputs": []
    },
    {
      "cell_type": "code",
      "source": [
        "#Outlier detection in Loan_ID"
      ],
      "metadata": {
        "id": "T3Z4eyaWxX3Z"
      },
      "execution_count": null,
      "outputs": []
    },
    {
      "cell_type": "code",
      "source": [
        "plt.boxplot(test_data['Loan_ID'])\n",
        "\n",
        "plt.show()"
      ],
      "metadata": {
        "id": "ZHf4K0XqxZ_Z"
      },
      "execution_count": null,
      "outputs": []
    },
    {
      "cell_type": "code",
      "source": [
        "#Outlier detection in Gender"
      ],
      "metadata": {
        "id": "00O_VCBxxdfJ"
      },
      "execution_count": null,
      "outputs": []
    },
    {
      "cell_type": "code",
      "source": [
        "plt.boxplot(test_data['Gender'])\n",
        "\n",
        "plt.show()"
      ],
      "metadata": {
        "id": "gefWtdw9xg-m"
      },
      "execution_count": null,
      "outputs": []
    },
    {
      "cell_type": "code",
      "source": [
        "#Outlier detection in Married"
      ],
      "metadata": {
        "id": "p4G7ufE7xji_"
      },
      "execution_count": null,
      "outputs": []
    },
    {
      "cell_type": "code",
      "source": [
        "plt.boxplot(test_data['Married'])\n",
        "\n",
        "plt.show()"
      ],
      "metadata": {
        "id": "c-3bqp58xmis"
      },
      "execution_count": null,
      "outputs": []
    },
    {
      "cell_type": "code",
      "source": [
        "#Outlier detection in Dependents"
      ],
      "metadata": {
        "id": "wP-PVGgYxqW6"
      },
      "execution_count": null,
      "outputs": []
    },
    {
      "cell_type": "code",
      "source": [
        "plt.boxplot(test_data['Dependents'])\n",
        "\n",
        "plt.show()"
      ],
      "metadata": {
        "id": "0v2sZGz6xtJ7"
      },
      "execution_count": null,
      "outputs": []
    },
    {
      "cell_type": "code",
      "source": [
        "#Outlier detection in Education"
      ],
      "metadata": {
        "id": "RgRJL-wCxxDP"
      },
      "execution_count": null,
      "outputs": []
    },
    {
      "cell_type": "code",
      "source": [
        "plt.boxplot(test_data['Education'])\n",
        "\n",
        "plt.show()"
      ],
      "metadata": {
        "id": "8fB9dd6xx0EZ"
      },
      "execution_count": null,
      "outputs": []
    },
    {
      "cell_type": "code",
      "source": [
        "#IQR\n",
        "Q1=test_data['Education'].quantile(0.25)\n",
        "Q2=test_data['Education'].quantile(0.5)\n",
        "Q3=test_data['Education'].quantile(0.75)"
      ],
      "metadata": {
        "id": "vQxfQz4Vx5HY"
      },
      "execution_count": null,
      "outputs": []
    },
    {
      "cell_type": "code",
      "source": [
        "IQR=Q3-Q1\n",
        "low=Q1-(1.5*IQR)\n",
        "up=Q3+(1.5*IQR)\n",
        "print(low,up)"
      ],
      "metadata": {
        "id": "s8rHQsOyx9Aq"
      },
      "execution_count": null,
      "outputs": []
    },
    {
      "cell_type": "code",
      "source": [
        "#Outlier Removal in Self_Employed"
      ],
      "metadata": {
        "id": "4-17_9_TyHzY"
      },
      "execution_count": null,
      "outputs": []
    },
    {
      "cell_type": "code",
      "source": [
        "#IQR\n",
        "Q1=test_data['Self_Employed'].quantile(0.25)\n",
        "Q2=test_data['Self_Employed'].quantile(0.5)\n",
        "Q3=test_data['Self_Employed'].quantile(0.75)"
      ],
      "metadata": {
        "id": "9R7iFpUyyKyg"
      },
      "execution_count": null,
      "outputs": []
    },
    {
      "cell_type": "code",
      "source": [
        "IQR=Q3-Q1\n",
        "low=Q1-(1.5*IQR)\n",
        "up=Q3+(1.5*IQR)\n",
        "print(low,up)"
      ],
      "metadata": {
        "id": "IpOUkaRbyOCr"
      },
      "execution_count": null,
      "outputs": []
    },
    {
      "cell_type": "code",
      "source": [
        "#Outlier detection in Applicant Income"
      ],
      "metadata": {
        "id": "GUqhjyoayPpG"
      },
      "execution_count": null,
      "outputs": []
    },
    {
      "cell_type": "code",
      "source": [
        "plt.boxplot(test_data['ApplicantIncome'])\n",
        "\n",
        "plt.show()"
      ],
      "metadata": {
        "id": "trY3Rx0zyTPn"
      },
      "execution_count": null,
      "outputs": []
    },
    {
      "cell_type": "code",
      "source": [
        " #Outlier Removal in ApplicantIncome"
      ],
      "metadata": {
        "id": "5B8RYmaZyWqJ"
      },
      "execution_count": null,
      "outputs": []
    },
    {
      "cell_type": "code",
      "source": [
        "#IQR\n",
        "Q1=test_data['ApplicantIncome'].quantile(0.25)\n",
        "Q2=test_data['ApplicantIncome'].quantile(0.5)\n",
        "Q3=test_data['ApplicantIncome'].quantile(0.75)"
      ],
      "metadata": {
        "id": "44Q_sPugycCR"
      },
      "execution_count": null,
      "outputs": []
    },
    {
      "cell_type": "code",
      "source": [
        "IQR=Q3-Q1\n",
        "low=Q1-(1.5*IQR)\n",
        "up=Q3+(1.5*IQR)\n",
        "print(low,up)"
      ],
      "metadata": {
        "id": "t_-jC5Wzydpd"
      },
      "execution_count": null,
      "outputs": []
    },
    {
      "cell_type": "code",
      "source": [
        "test_data[test_data['ApplicantIncome']>up].index"
      ],
      "metadata": {
        "id": "GVoO19tzyge8"
      },
      "execution_count": null,
      "outputs": []
    },
    {
      "cell_type": "code",
      "source": [
        "test_data[test_data['ApplicantIncome']<low].index"
      ],
      "metadata": {
        "id": "fmzSBfHmyj7K"
      },
      "execution_count": null,
      "outputs": []
    },
    {
      "cell_type": "code",
      "source": [
        "test_data=test_data.drop([ 8,  13,  18,  81,  83,  91,  98, 124, 143, 144, 145, 147, 179,\n",
        "            184, 187, 188, 194, 200, 230, 247, 263, 272, 279, 283, 284, 285,\n",
        "            302, 323, 331, 350, 360, 366])"
      ],
      "metadata": {
        "id": "mjL0jAvYyonN"
      },
      "execution_count": null,
      "outputs": []
    },
    {
      "cell_type": "code",
      "source": [
        "plt.boxplot(test_data['ApplicantIncome'])\n",
        "\n",
        "plt.show()"
      ],
      "metadata": {
        "id": "VNOxfC6Kys8i"
      },
      "execution_count": null,
      "outputs": []
    },
    {
      "cell_type": "code",
      "source": [
        "#Again dropping outliers in ApplicantIncome"
      ],
      "metadata": {
        "id": "YUEPwei9ywe3"
      },
      "execution_count": null,
      "outputs": []
    },
    {
      "cell_type": "code",
      "source": [
        "#IQR\n",
        "Q1=test_data['ApplicantIncome'].quantile(0.25)\n",
        "Q2=test_data['ApplicantIncome'].quantile(0.5)\n",
        "Q3=test_data['ApplicantIncome'].quantile(0.75)"
      ],
      "metadata": {
        "id": "uc2kw5dLyz9t"
      },
      "execution_count": null,
      "outputs": []
    },
    {
      "cell_type": "code",
      "source": [
        "IQR=Q3-Q1\n",
        "low=Q1-(1.5*IQR)\n",
        "up=Q3+(1.5*IQR)\n",
        "print(low,up)"
      ],
      "metadata": {
        "id": "eVBODcoYy4Rj"
      },
      "execution_count": null,
      "outputs": []
    },
    {
      "cell_type": "code",
      "source": [
        "test_data[test_data['ApplicantIncome']>up].index"
      ],
      "metadata": {
        "id": "-GYErcMcy822"
      },
      "execution_count": null,
      "outputs": []
    },
    {
      "cell_type": "code",
      "source": [
        "test_data[test_data['ApplicantIncome']<low].index"
      ],
      "metadata": {
        "id": "M3TBtDqzy_uI"
      },
      "execution_count": null,
      "outputs": []
    },
    {
      "cell_type": "code",
      "source": [
        "test_data=test_data.drop([ 49, 68, 79, 159, 189, 217, 233, 289, 315, 345, 355])"
      ],
      "metadata": {
        "id": "ebQ-24TPzDY5"
      },
      "execution_count": null,
      "outputs": []
    },
    {
      "cell_type": "code",
      "source": [
        "plt.boxplot(test_data['ApplicantIncome'])\n",
        "plt.show()"
      ],
      "metadata": {
        "id": "iIzPdE1dzHvT"
      },
      "execution_count": null,
      "outputs": []
    },
    {
      "cell_type": "code",
      "source": [],
      "metadata": {
        "id": "3JDRF8xhzqZl"
      },
      "execution_count": null,
      "outputs": []
    },
    {
      "cell_type": "code",
      "source": [],
      "metadata": {
        "id": "L3i5wZP3zrhE"
      },
      "execution_count": null,
      "outputs": []
    },
    {
      "cell_type": "code",
      "source": [
        "#Outlier Detection in CoapplicantIncome"
      ],
      "metadata": {
        "id": "Z6qj3yIQzVK7"
      },
      "execution_count": null,
      "outputs": []
    },
    {
      "cell_type": "code",
      "source": [
        "plt.boxplot(test_data['CoapplicantIncome'])\n",
        "\n",
        "plt.show()"
      ],
      "metadata": {
        "id": "nOhFggSJzZ31"
      },
      "execution_count": null,
      "outputs": []
    },
    {
      "cell_type": "code",
      "source": [
        "#Outlier Removal in CoapplicantIncome"
      ],
      "metadata": {
        "id": "GmYqf-FCzcbI"
      },
      "execution_count": null,
      "outputs": []
    },
    {
      "cell_type": "code",
      "source": [
        "#IQR\n",
        "Q1=test_data['CoapplicantIncome'].quantile(0.25)\n",
        "Q2=test_data['CoapplicantIncome'].quantile(0.5)\n",
        "Q3=test_data['CoapplicantIncome'].quantile(0.75)"
      ],
      "metadata": {
        "id": "h-e0UYGyzgd5"
      },
      "execution_count": null,
      "outputs": []
    },
    {
      "cell_type": "code",
      "source": [
        "IQR=Q3-Q1\n",
        "low=Q1-(1.5*IQR)\n",
        "up=Q3+(1.5*IQR)\n",
        "print(low,up)"
      ],
      "metadata": {
        "id": "kai64ZPBzj0U"
      },
      "execution_count": null,
      "outputs": []
    },
    {
      "cell_type": "code",
      "source": [
        "test_data[test_data['CoapplicantIncome']>up].index"
      ],
      "metadata": {
        "id": "SY8SruRPzm5T"
      },
      "execution_count": null,
      "outputs": []
    },
    {
      "cell_type": "code",
      "source": [
        "test_data[test_data['CoapplicantIncome']<low].index"
      ],
      "metadata": {
        "id": "2-2BhxKLzuHw"
      },
      "execution_count": null,
      "outputs": []
    },
    {
      "cell_type": "code",
      "source": [
        "test_data=test_data.drop([ 25, 85, 123, 237, 351])"
      ],
      "metadata": {
        "id": "SKVEhnQPz_BM"
      },
      "execution_count": null,
      "outputs": []
    },
    {
      "cell_type": "code",
      "source": [
        "plt.boxplot(test_data['CoapplicantIncome'])\n",
        "plt.show()"
      ],
      "metadata": {
        "id": "eBUvYDXV0Bec"
      },
      "execution_count": null,
      "outputs": []
    },
    {
      "cell_type": "code",
      "source": [
        "#Outlier Detection inLoan Amount"
      ],
      "metadata": {
        "id": "w8cHhZeb0IBB"
      },
      "execution_count": null,
      "outputs": []
    },
    {
      "cell_type": "code",
      "source": [
        "plt.boxplot(test_data['LoanAmount'])\n",
        "\n",
        "plt.show()"
      ],
      "metadata": {
        "id": "g4a_2NbS1B-y"
      },
      "execution_count": null,
      "outputs": []
    },
    {
      "cell_type": "code",
      "source": [
        "#IQR\n",
        "Q1=test_data['LoanAmount'].quantile(0.25)\n",
        "Q2=test_data['LoanAmount'].quantile(0.5)\n",
        "Q3=test_data['LoanAmount'].quantile(0.75)"
      ],
      "metadata": {
        "id": "QgiScnJw1JJs"
      },
      "execution_count": null,
      "outputs": []
    },
    {
      "cell_type": "code",
      "source": [
        "IQR=Q3-Q1\n",
        "low=Q1-(1.5*IQR)\n",
        "up=Q3+(1.5*IQR)\n",
        "print(low,up)"
      ],
      "metadata": {
        "id": "DGpA-ZP-1NP7"
      },
      "execution_count": null,
      "outputs": []
    },
    {
      "cell_type": "code",
      "source": [
        "test_data[test_data['LoanAmount']>up].index"
      ],
      "metadata": {
        "id": "h2OhmZNn1RSE"
      },
      "execution_count": null,
      "outputs": []
    },
    {
      "cell_type": "code",
      "source": [
        "test_data[test_data['LoanAmount']<low].index"
      ],
      "metadata": {
        "id": "0KpfVcjz1Tv_"
      },
      "execution_count": null,
      "outputs": []
    },
    {
      "cell_type": "code",
      "source": [
        "test_data=test_data.drop([ 24, 27, 73, 96, 127])"
      ],
      "metadata": {
        "id": "xXwpKcsZ1V1b"
      },
      "execution_count": null,
      "outputs": []
    },
    {
      "cell_type": "code",
      "source": [
        "plt.boxplot(test_data['LoanAmount'])\n",
        "plt.show()"
      ],
      "metadata": {
        "id": "YS7jA-Ja1ZAO"
      },
      "execution_count": null,
      "outputs": []
    },
    {
      "cell_type": "code",
      "source": [
        "#Outlier Detection in Loan_Amount_Term"
      ],
      "metadata": {
        "id": "Kfk7HmLm1fMH"
      },
      "execution_count": null,
      "outputs": []
    },
    {
      "cell_type": "code",
      "source": [
        "plt.boxplot(test_data['Loan_Amount_Term'])\n",
        "plt.show()"
      ],
      "metadata": {
        "id": "BLBpNyYX1ibc"
      },
      "execution_count": null,
      "outputs": []
    },
    {
      "cell_type": "code",
      "source": [
        "#Outlier Removal in Loan_Amount_Term"
      ],
      "metadata": {
        "id": "vlFx75eb1z9E"
      },
      "execution_count": null,
      "outputs": []
    },
    {
      "cell_type": "code",
      "source": [
        "#IQR\n",
        "Q1=test_data['Loan_Amount_Term'].quantile(0.25)\n",
        "Q2=test_data['Loan_Amount_Term'].quantile(0.5)\n",
        "Q3=test_data['Loan_Amount_Term'].quantile(0.75)"
      ],
      "metadata": {
        "id": "1sGUAJnU2Bul"
      },
      "execution_count": null,
      "outputs": []
    },
    {
      "cell_type": "code",
      "source": [
        "IQR=Q3-Q1\n",
        "low=Q1-(1.5*IQR)\n",
        "up=Q3+(1.5*IQR)\n",
        "print(low,up)"
      ],
      "metadata": {
        "id": "wzVUpK3k2Geo"
      },
      "execution_count": null,
      "outputs": []
    },
    {
      "cell_type": "code",
      "source": [
        "test_data[test_data['Loan_Amount_Term']>up].index"
      ],
      "metadata": {
        "id": "p27oD6Qa2KKN"
      },
      "execution_count": null,
      "outputs": []
    },
    {
      "cell_type": "code",
      "source": [
        "test_data[test_data['Loan_Amount_Term']<low].index"
      ],
      "metadata": {
        "id": "SrTDAD-k2MbI"
      },
      "execution_count": null,
      "outputs": []
    },
    {
      "cell_type": "code",
      "source": [
        "test_data=test_data.drop([ 82, 101, 222, 239, 250, 266, 295,12,  19,  21,  29,  36,  53,  57,  59,  72,  84, 103, 128, 134,\n",
        "            141, 155, 157, 164, 173, 190, 215, 216, 223, 232, 245, 249, 251,\n",
        "            277, 312, 314, 322, 325, 338, 340, 342, 349, 354])"
      ],
      "metadata": {
        "id": "1pdIslEc2TUo"
      },
      "execution_count": null,
      "outputs": []
    },
    {
      "cell_type": "code",
      "source": [
        "plt.boxplot(test_data['Loan_Amount_Term'])\n",
        "plt.show()"
      ],
      "metadata": {
        "id": "xZK036HD2WcP"
      },
      "execution_count": null,
      "outputs": []
    },
    {
      "cell_type": "code",
      "source": [
        "plt.boxplot(test_data['Property_Area'])\n",
        "\n",
        "plt.show()"
      ],
      "metadata": {
        "id": "k67bB5hk2eFv"
      },
      "execution_count": null,
      "outputs": []
    },
    {
      "cell_type": "code",
      "source": [
        "#Scaling"
      ],
      "metadata": {
        "id": "d4NNDY562iOF"
      },
      "execution_count": null,
      "outputs": []
    },
    {
      "cell_type": "code",
      "source": [
        "#Split train_data into dependent and independent features"
      ],
      "metadata": {
        "id": "Qsv8bXKi2mdU"
      },
      "execution_count": null,
      "outputs": []
    },
    {
      "cell_type": "code",
      "source": [
        "x=test_data.drop('LoanAmount',axis=1)  #dependent features"
      ],
      "metadata": {
        "id": "fYADOKVt2ohr"
      },
      "execution_count": null,
      "outputs": []
    },
    {
      "cell_type": "code",
      "source": [
        "y=test_data['LoanAmount']              #independent feature"
      ],
      "metadata": {
        "id": "1ZYCJJbp2rCV"
      },
      "execution_count": null,
      "outputs": []
    },
    {
      "cell_type": "code",
      "source": [
        "#minmax Scaler\n",
        "from sklearn.preprocessing import MinMaxScaler\n",
        "min_max=MinMaxScaler()\n",
        "test_data.columns"
      ],
      "metadata": {
        "id": "ZvkDy5V22upP"
      },
      "execution_count": null,
      "outputs": []
    },
    {
      "cell_type": "code",
      "source": [
        "x.loc[:,['Loan_ID','Gender','Married','Dependents','Education','Self_Employed','ApplicantIncome','CoapplicantIncome','Loan_Amount_Term','Credit_History','Property_Area']]=min_max.fit_transform(x[['Loan_ID','Gender','Married','Dependents','Education','Self_Employed','ApplicantIncome','CoapplicantIncome','Loan_Amount_Term','Credit_History','Property_Area']])"
      ],
      "metadata": {
        "id": "Bu4Qjo8u27Pc"
      },
      "execution_count": null,
      "outputs": []
    },
    {
      "cell_type": "code",
      "source": [
        "test_data.head()"
      ],
      "metadata": {
        "id": "4pCtH-Ew29XX"
      },
      "execution_count": null,
      "outputs": []
    }
  ]
}